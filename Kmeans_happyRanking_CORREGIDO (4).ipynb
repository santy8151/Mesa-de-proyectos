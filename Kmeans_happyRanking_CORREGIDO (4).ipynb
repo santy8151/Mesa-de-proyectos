{
 "cells": [
  {
   "cell_type": "code",
   "execution_count": 55,
   "id": "6078e829",
   "metadata": {},
   "outputs": [
    {
     "name": "stdout",
     "output_type": "stream",
     "text": [
      "Requirement already satisfied: plotly in c:\\users\\santi\\anaconda3\\lib\\site-packages (5.24.1)\n",
      "Requirement already satisfied: tenacity>=6.2.0 in c:\\users\\santi\\anaconda3\\lib\\site-packages (from plotly) (9.0.0)\n",
      "Requirement already satisfied: packaging in c:\\users\\santi\\anaconda3\\lib\\site-packages (from plotly) (24.2)\n"
     ]
    }
   ],
   "source": [
    "#1.librerías\n",
    "!pip install plotly\n",
    "import pandas as pd\n",
    "import numpy as np\n",
    "import matplotlib.pyplot as plt\n",
    "import seaborn as sns\n",
    "import plotly.express as px\n",
    "from sklearn.preprocessing import StandardScaler\n",
    "from sklearn.cluster import KMeans\n",
    "from sklearn.metrics import silhouette_score\n"
   ]
  },
  {
   "cell_type": "code",
   "execution_count": 56,
   "id": "1dac4c70-7a36-4d3c-87b9-8b64b883e1cd",
   "metadata": {},
   "outputs": [],
   "source": [
    "df = pd.read_csv(\"World Happiness Report 2022 (1).csv\")"
   ]
  },
  {
   "cell_type": "markdown",
   "id": "7a659b6f-da12-45c2-8ad2-61c23dab8f22",
   "metadata": {},
   "source": [
    "Elegi este dataset por que es un dataset multivariable y estructurado:\n",
    "\n",
    "Incluye indicadores como PIB per cápita, esperanza de vida, libertad, generosidad, percepción de corrupción, etc.\n",
    "\n",
    "Estas variables son cuantitativas y comparables, lo que lo hace perfecto para aplicar K-means.\n",
    "\n",
    "Permite identificar patrones ocultos entre países\n",
    "\n",
    "Más allá del ranking de felicidad, el clustering agrupa países con características socioeconómicas y sociales similares.\n",
    "\n",
    "Ejemplo: países con alto PIB y baja corrupción pueden caer en un mismo cluster, aunque estén en continentes distintos.\n",
    "\n",
    "Es un caso con sentido social y práctico\n",
    "\n",
    "Relaciona la tecnología con un problema real: el bienestar y la felicidad global.\n",
    "\n",
    "Sirve para mostrar cómo los datos ayudan a entender fenómenos sociales y económicos.\n",
    "\n",
    "Es fácilmente interpretable y visualizable\n",
    "\n",
    "Puedes mostrar los clusters en gráficos 2D (PIB vs Salud) o incluso en un mapa mundi por colores.\n",
    "\n",
    "Esto hace que los resultados sean comprensibles tanto para expertos como para personas no técnicas."
   ]
  },
  {
   "cell_type": "code",
   "execution_count": 57,
   "id": "cfb2fda1-1bf4-4855-a2a6-06ec0124a227",
   "metadata": {},
   "outputs": [
    {
     "name": "stdout",
     "output_type": "stream",
     "text": [
      "Vista previa del dataset:\n"
     ]
    },
    {
     "data": {
      "text/html": [
       "<div>\n",
       "<style scoped>\n",
       "    .dataframe tbody tr th:only-of-type {\n",
       "        vertical-align: middle;\n",
       "    }\n",
       "\n",
       "    .dataframe tbody tr th {\n",
       "        vertical-align: top;\n",
       "    }\n",
       "\n",
       "    .dataframe thead th {\n",
       "        text-align: right;\n",
       "    }\n",
       "</style>\n",
       "<table border=\"1\" class=\"dataframe\">\n",
       "  <thead>\n",
       "    <tr style=\"text-align: right;\">\n",
       "      <th></th>\n",
       "      <th>RANK</th>\n",
       "      <th>Country</th>\n",
       "      <th>Happiness score</th>\n",
       "      <th>Whisker-high</th>\n",
       "      <th>Whisker-low</th>\n",
       "      <th>Dystopia (1.83) + residual</th>\n",
       "      <th>Explained by: GDP per capita</th>\n",
       "      <th>Explained by: Social support</th>\n",
       "      <th>Explained by: Healthy life expectancy</th>\n",
       "      <th>Explained by: Freedom to make life choices</th>\n",
       "      <th>Explained by: Generosity</th>\n",
       "      <th>Explained by: Perceptions of corruption</th>\n",
       "    </tr>\n",
       "  </thead>\n",
       "  <tbody>\n",
       "    <tr>\n",
       "      <th>0</th>\n",
       "      <td>1</td>\n",
       "      <td>Finland</td>\n",
       "      <td>7.821</td>\n",
       "      <td>7.886</td>\n",
       "      <td>7.756</td>\n",
       "      <td>2.518</td>\n",
       "      <td>1.892</td>\n",
       "      <td>1.258</td>\n",
       "      <td>0.775</td>\n",
       "      <td>0.736</td>\n",
       "      <td>0.109</td>\n",
       "      <td>0.534</td>\n",
       "    </tr>\n",
       "    <tr>\n",
       "      <th>1</th>\n",
       "      <td>2</td>\n",
       "      <td>Denmark</td>\n",
       "      <td>7.636</td>\n",
       "      <td>7.710</td>\n",
       "      <td>7.563</td>\n",
       "      <td>2.226</td>\n",
       "      <td>1.953</td>\n",
       "      <td>1.243</td>\n",
       "      <td>0.777</td>\n",
       "      <td>0.719</td>\n",
       "      <td>0.188</td>\n",
       "      <td>0.532</td>\n",
       "    </tr>\n",
       "    <tr>\n",
       "      <th>2</th>\n",
       "      <td>3</td>\n",
       "      <td>Iceland</td>\n",
       "      <td>7.557</td>\n",
       "      <td>7.651</td>\n",
       "      <td>7.464</td>\n",
       "      <td>2.320</td>\n",
       "      <td>1.936</td>\n",
       "      <td>1.320</td>\n",
       "      <td>0.803</td>\n",
       "      <td>0.718</td>\n",
       "      <td>0.270</td>\n",
       "      <td>0.191</td>\n",
       "    </tr>\n",
       "    <tr>\n",
       "      <th>3</th>\n",
       "      <td>4</td>\n",
       "      <td>Switzerland</td>\n",
       "      <td>7.512</td>\n",
       "      <td>7.586</td>\n",
       "      <td>7.437</td>\n",
       "      <td>2.153</td>\n",
       "      <td>2.026</td>\n",
       "      <td>1.226</td>\n",
       "      <td>0.822</td>\n",
       "      <td>0.677</td>\n",
       "      <td>0.147</td>\n",
       "      <td>0.461</td>\n",
       "    </tr>\n",
       "    <tr>\n",
       "      <th>4</th>\n",
       "      <td>5</td>\n",
       "      <td>Netherlands</td>\n",
       "      <td>7.415</td>\n",
       "      <td>7.471</td>\n",
       "      <td>7.359</td>\n",
       "      <td>2.137</td>\n",
       "      <td>1.945</td>\n",
       "      <td>1.206</td>\n",
       "      <td>0.787</td>\n",
       "      <td>0.651</td>\n",
       "      <td>0.271</td>\n",
       "      <td>0.419</td>\n",
       "    </tr>\n",
       "  </tbody>\n",
       "</table>\n",
       "</div>"
      ],
      "text/plain": [
       "   RANK      Country  Happiness score  Whisker-high  Whisker-low  \\\n",
       "0     1      Finland            7.821         7.886        7.756   \n",
       "1     2      Denmark            7.636         7.710        7.563   \n",
       "2     3      Iceland            7.557         7.651        7.464   \n",
       "3     4  Switzerland            7.512         7.586        7.437   \n",
       "4     5  Netherlands            7.415         7.471        7.359   \n",
       "\n",
       "   Dystopia (1.83) + residual  Explained by: GDP per capita  \\\n",
       "0                       2.518                         1.892   \n",
       "1                       2.226                         1.953   \n",
       "2                       2.320                         1.936   \n",
       "3                       2.153                         2.026   \n",
       "4                       2.137                         1.945   \n",
       "\n",
       "   Explained by: Social support  Explained by: Healthy life expectancy  \\\n",
       "0                         1.258                                  0.775   \n",
       "1                         1.243                                  0.777   \n",
       "2                         1.320                                  0.803   \n",
       "3                         1.226                                  0.822   \n",
       "4                         1.206                                  0.787   \n",
       "\n",
       "   Explained by: Freedom to make life choices  Explained by: Generosity  \\\n",
       "0                                       0.736                     0.109   \n",
       "1                                       0.719                     0.188   \n",
       "2                                       0.718                     0.270   \n",
       "3                                       0.677                     0.147   \n",
       "4                                       0.651                     0.271   \n",
       "\n",
       "   Explained by: Perceptions of corruption  \n",
       "0                                    0.534  \n",
       "1                                    0.532  \n",
       "2                                    0.191  \n",
       "3                                    0.461  \n",
       "4                                    0.419  "
      ]
     },
     "metadata": {},
     "output_type": "display_data"
    },
    {
     "name": "stdout",
     "output_type": "stream",
     "text": [
      "\n",
      "Información del dataset:\n",
      "<class 'pandas.core.frame.DataFrame'>\n",
      "RangeIndex: 146 entries, 0 to 145\n",
      "Data columns (total 12 columns):\n",
      " #   Column                                      Non-Null Count  Dtype  \n",
      "---  ------                                      --------------  -----  \n",
      " 0   RANK                                        146 non-null    int64  \n",
      " 1   Country                                     146 non-null    object \n",
      " 2   Happiness score                             146 non-null    float64\n",
      " 3   Whisker-high                                146 non-null    float64\n",
      " 4   Whisker-low                                 146 non-null    float64\n",
      " 5   Dystopia (1.83) + residual                  146 non-null    float64\n",
      " 6   Explained by: GDP per capita                146 non-null    float64\n",
      " 7   Explained by: Social support                146 non-null    float64\n",
      " 8   Explained by: Healthy life expectancy       146 non-null    float64\n",
      " 9   Explained by: Freedom to make life choices  146 non-null    float64\n",
      " 10  Explained by: Generosity                    146 non-null    float64\n",
      " 11  Explained by: Perceptions of corruption     146 non-null    float64\n",
      "dtypes: float64(10), int64(1), object(1)\n",
      "memory usage: 13.8+ KB\n"
     ]
    }
   ],
   "source": [
    "# Mostrar primeras filas\n",
    "print(\"Vista previa del dataset:\")\n",
    "display(df.head())\n",
    "\n",
    "print(\"\\nInformación del dataset:\")\n",
    "df.info()"
   ]
  },
  {
   "cell_type": "markdown",
   "id": "45a9d0a7-71e5-42c6-9e82-99e2076c555e",
   "metadata": {},
   "source": [
    "Introduccion a los datos:\n",
    "Este dataset se trata de una encuesta de felicidad en diferentes paises y utilizamos la tecnica de kmeans para clusterizar mejor los paises por su nivel de felicidad que se define por unas variables"
   ]
  },
  {
   "cell_type": "code",
   "execution_count": 58,
   "id": "f382d718-5f82-4570-bc5e-64e3452d1c5d",
   "metadata": {},
   "outputs": [
    {
     "name": "stdout",
     "output_type": "stream",
     "text": [
      "\n",
      "Valores nulos por columna:\n",
      "RANK                                          0\n",
      "Country                                       0\n",
      "Happiness score                               0\n",
      "Whisker-high                                  0\n",
      "Whisker-low                                   0\n",
      "Dystopia (1.83) + residual                    0\n",
      "Explained by: GDP per capita                  0\n",
      "Explained by: Social support                  0\n",
      "Explained by: Healthy life expectancy         0\n",
      "Explained by: Freedom to make life choices    0\n",
      "Explained by: Generosity                      0\n",
      "Explained by: Perceptions of corruption       0\n",
      "dtype: int64\n"
     ]
    }
   ],
   "source": [
    "#3.Preparación y limpieza de datos\n",
    "# Revisar valores nulos\n",
    "print(\"\\nValores nulos por columna:\")\n",
    "print(df.isnull().sum())"
   ]
  },
  {
   "cell_type": "code",
   "execution_count": 59,
   "id": "59105828-a431-463c-ade0-c62fc274ca75",
   "metadata": {},
   "outputs": [],
   "source": [
    "# Eliminar nulos si existen\n",
    "df = df.dropna()"
   ]
  },
  {
   "cell_type": "code",
   "execution_count": 60,
   "id": "88bc6b84-2ab1-4b12-9345-779faa163fdb",
   "metadata": {},
   "outputs": [],
   "source": [
    "# Renombrar columnas para facilidad (opcional)\n",
    "df = df.rename(columns={\n",
    "    'Happiness score': 'Score',\n",
    "    'Explained by: GDP per capita': 'GDP',\n",
    "    'Explained by: Healthy life expectancy': 'Health',\n",
    "    'Explained by: Freedom to make life choices': 'Freedom',\n",
    "    'Explained by: Perceptions of corruption': 'Corruption',\n",
    "    'Explained by: Generosity': 'Generosity'\n",
    "})\n"
   ]
  },
  {
   "cell_type": "code",
   "execution_count": 61,
   "id": "245662e4-c382-4299-919a-5476b15a650d",
   "metadata": {},
   "outputs": [],
   "source": [
    "# Selección de columnas relevantes para el clustering\n",
    "features = ['GDP', 'Health', 'Freedom', 'Corruption', 'Generosity']\n",
    "df_model = df[features]\n"
   ]
  },
  {
   "cell_type": "code",
   "execution_count": 62,
   "id": "67783f06-fa88-46d7-9a7f-07f70dd76ed0",
   "metadata": {},
   "outputs": [],
   "source": [
    "# Escalar los datos (muy importante para K-means)\n",
    "scaler = StandardScaler()\n",
    "df_scaled = scaler.fit_transform(df_model)"
   ]
  },
  {
   "cell_type": "code",
   "execution_count": 63,
   "id": "12ab669c-6688-4088-a305-70a2f138f7d3",
   "metadata": {},
   "outputs": [],
   "source": [
    "# Convertir a DataFrame escalado\n",
    "df_scaled = pd.DataFrame(df_scaled, columns=features)"
   ]
  },
  {
   "cell_type": "code",
   "execution_count": 64,
   "id": "4121d086-30e5-4415-beba-0dcfcdbd36e8",
   "metadata": {},
   "outputs": [
    {
     "name": "stdout",
     "output_type": "stream",
     "text": [
      "\n",
      "Datos preparados y escalados:\n"
     ]
    },
    {
     "data": {
      "text/html": [
       "<div>\n",
       "<style scoped>\n",
       "    .dataframe tbody tr th:only-of-type {\n",
       "        vertical-align: middle;\n",
       "    }\n",
       "\n",
       "    .dataframe tbody tr th {\n",
       "        vertical-align: top;\n",
       "    }\n",
       "\n",
       "    .dataframe thead th {\n",
       "        text-align: right;\n",
       "    }\n",
       "</style>\n",
       "<table border=\"1\" class=\"dataframe\">\n",
       "  <thead>\n",
       "    <tr style=\"text-align: right;\">\n",
       "      <th></th>\n",
       "      <th>GDP</th>\n",
       "      <th>Health</th>\n",
       "      <th>Freedom</th>\n",
       "      <th>Corruption</th>\n",
       "      <th>Generosity</th>\n",
       "    </tr>\n",
       "  </thead>\n",
       "  <tbody>\n",
       "    <tr>\n",
       "      <th>0</th>\n",
       "      <td>1.145968</td>\n",
       "      <td>1.074531</td>\n",
       "      <td>1.505066</td>\n",
       "      <td>2.984171</td>\n",
       "      <td>-0.465089</td>\n",
       "    </tr>\n",
       "    <tr>\n",
       "      <th>1</th>\n",
       "      <td>1.291131</td>\n",
       "      <td>1.085912</td>\n",
       "      <td>1.388114</td>\n",
       "      <td>2.968432</td>\n",
       "      <td>0.492316</td>\n",
       "    </tr>\n",
       "    <tr>\n",
       "      <th>2</th>\n",
       "      <td>1.250676</td>\n",
       "      <td>1.233865</td>\n",
       "      <td>1.381234</td>\n",
       "      <td>0.285018</td>\n",
       "      <td>1.486078</td>\n",
       "    </tr>\n",
       "    <tr>\n",
       "      <th>3</th>\n",
       "      <td>1.464851</td>\n",
       "      <td>1.341984</td>\n",
       "      <td>1.099173</td>\n",
       "      <td>2.409715</td>\n",
       "      <td>-0.004565</td>\n",
       "    </tr>\n",
       "    <tr>\n",
       "      <th>4</th>\n",
       "      <td>1.272094</td>\n",
       "      <td>1.142817</td>\n",
       "      <td>0.920305</td>\n",
       "      <td>2.079207</td>\n",
       "      <td>1.498197</td>\n",
       "    </tr>\n",
       "  </tbody>\n",
       "</table>\n",
       "</div>"
      ],
      "text/plain": [
       "        GDP    Health   Freedom  Corruption  Generosity\n",
       "0  1.145968  1.074531  1.505066    2.984171   -0.465089\n",
       "1  1.291131  1.085912  1.388114    2.968432    0.492316\n",
       "2  1.250676  1.233865  1.381234    0.285018    1.486078\n",
       "3  1.464851  1.341984  1.099173    2.409715   -0.004565\n",
       "4  1.272094  1.142817  0.920305    2.079207    1.498197"
      ]
     },
     "metadata": {},
     "output_type": "display_data"
    }
   ],
   "source": [
    "print(\"\\nDatos preparados y escalados:\")\n",
    "display(df_scaled.head())"
   ]
  },
  {
   "cell_type": "code",
   "execution_count": 65,
   "id": "cd701649-e54b-496a-9176-bcffe373f73b",
   "metadata": {},
   "outputs": [
    {
     "name": "stdout",
     "output_type": "stream",
     "text": [
      "\n",
      "Estadísticas descriptivas:\n"
     ]
    },
    {
     "data": {
      "text/html": [
       "<div>\n",
       "<style scoped>\n",
       "    .dataframe tbody tr th:only-of-type {\n",
       "        vertical-align: middle;\n",
       "    }\n",
       "\n",
       "    .dataframe tbody tr th {\n",
       "        vertical-align: top;\n",
       "    }\n",
       "\n",
       "    .dataframe thead th {\n",
       "        text-align: right;\n",
       "    }\n",
       "</style>\n",
       "<table border=\"1\" class=\"dataframe\">\n",
       "  <thead>\n",
       "    <tr style=\"text-align: right;\">\n",
       "      <th></th>\n",
       "      <th>GDP</th>\n",
       "      <th>Health</th>\n",
       "      <th>Freedom</th>\n",
       "      <th>Corruption</th>\n",
       "      <th>Generosity</th>\n",
       "    </tr>\n",
       "  </thead>\n",
       "  <tbody>\n",
       "    <tr>\n",
       "      <th>count</th>\n",
       "      <td>146.000000</td>\n",
       "      <td>146.000000</td>\n",
       "      <td>146.000000</td>\n",
       "      <td>146.000000</td>\n",
       "      <td>146.000000</td>\n",
       "    </tr>\n",
       "    <tr>\n",
       "      <th>mean</th>\n",
       "      <td>1.410445</td>\n",
       "      <td>0.586171</td>\n",
       "      <td>0.517226</td>\n",
       "      <td>0.154781</td>\n",
       "      <td>0.147377</td>\n",
       "    </tr>\n",
       "    <tr>\n",
       "      <th>std</th>\n",
       "      <td>0.421663</td>\n",
       "      <td>0.176336</td>\n",
       "      <td>0.145859</td>\n",
       "      <td>0.127514</td>\n",
       "      <td>0.082799</td>\n",
       "    </tr>\n",
       "    <tr>\n",
       "      <th>min</th>\n",
       "      <td>0.000000</td>\n",
       "      <td>0.000000</td>\n",
       "      <td>0.000000</td>\n",
       "      <td>0.000000</td>\n",
       "      <td>0.000000</td>\n",
       "    </tr>\n",
       "    <tr>\n",
       "      <th>25%</th>\n",
       "      <td>1.095500</td>\n",
       "      <td>0.463250</td>\n",
       "      <td>0.440500</td>\n",
       "      <td>0.068250</td>\n",
       "      <td>0.089000</td>\n",
       "    </tr>\n",
       "    <tr>\n",
       "      <th>50%</th>\n",
       "      <td>1.445500</td>\n",
       "      <td>0.621500</td>\n",
       "      <td>0.543500</td>\n",
       "      <td>0.119500</td>\n",
       "      <td>0.132500</td>\n",
       "    </tr>\n",
       "    <tr>\n",
       "      <th>75%</th>\n",
       "      <td>1.784750</td>\n",
       "      <td>0.719750</td>\n",
       "      <td>0.626000</td>\n",
       "      <td>0.198500</td>\n",
       "      <td>0.197750</td>\n",
       "    </tr>\n",
       "    <tr>\n",
       "      <th>max</th>\n",
       "      <td>2.209000</td>\n",
       "      <td>0.942000</td>\n",
       "      <td>0.740000</td>\n",
       "      <td>0.587000</td>\n",
       "      <td>0.468000</td>\n",
       "    </tr>\n",
       "  </tbody>\n",
       "</table>\n",
       "</div>"
      ],
      "text/plain": [
       "              GDP      Health     Freedom  Corruption  Generosity\n",
       "count  146.000000  146.000000  146.000000  146.000000  146.000000\n",
       "mean     1.410445    0.586171    0.517226    0.154781    0.147377\n",
       "std      0.421663    0.176336    0.145859    0.127514    0.082799\n",
       "min      0.000000    0.000000    0.000000    0.000000    0.000000\n",
       "25%      1.095500    0.463250    0.440500    0.068250    0.089000\n",
       "50%      1.445500    0.621500    0.543500    0.119500    0.132500\n",
       "75%      1.784750    0.719750    0.626000    0.198500    0.197750\n",
       "max      2.209000    0.942000    0.740000    0.587000    0.468000"
      ]
     },
     "metadata": {},
     "output_type": "display_data"
    }
   ],
   "source": [
    "# 4. Análisis exploratorio inicial (EDA)\n",
    "# Estadísticas descriptivas\n",
    "print(\"\\nEstadísticas descriptivas:\")\n",
    "display(df_model.describe())"
   ]
  },
  {
   "cell_type": "code",
   "execution_count": 66,
   "id": "7d9d919c-2531-4c7d-9f4d-18daec68a636",
   "metadata": {},
   "outputs": [
    {
     "data": {
      "image/png": "[encoded data removed]",
      "text/plain": [
       "<Figure size 700x500 with 2 Axes>"
      ]
     },
     "metadata": {},
     "output_type": "display_data"
    }
   ],
   "source": [
    "# Matriz de correlación\n",
    "plt.figure(figsize=(7,5))\n",
    "sns.heatmap(df_model.corr(), annot=True, cmap=\"coolwarm\")\n",
    "plt.title(\"Matriz de correlación entre variables\")\n",
    "plt.show()"
   ]
  },
  {
   "cell_type": "markdown",
   "id": "ed2b5ba3-e53b-4611-b32f-f24eb996dd2f",
   "metadata": {},
   "source": [
    "Factores más importantes para la felicidad\n",
    "GDP y Health (0.82): La correlación más fuerte indica que la prosperidad económica y la salud van de la mano como pilares fundamentales de la felicidad de un país.\n",
    "GDP y Freedom (0.46) / Health y Freedom (0.43): Los países más felices tienden a tener mayor libertad económica y personal, junto con mejor salud y economía.\n",
    "Hallazgos interesantes sobre la felicidad\n",
    "Paradoja de la generosidad:\n",
    "\n",
    "GDP y Generosity (-0.16)\n",
    "Health y Generosity (-0.098)\n",
    "\n",
    "Los países más ricos y saludables (presumiblemente más felices) son menos generosos. Esto sugiere que la prosperidad individual no necesariamente se traduce en altruismo.\n",
    "El factor corrupción:\n",
    "\n",
    "Las correlaciones positivas con GDP (0.38) y Health (0.36) sugieren que incluso países con cierta corrupción pueden tener altos niveles de felicidad si tienen buena economía y salud.\n",
    "\n",
    "Conclusión sobre la felicidad\n",
    "La prosperidad económica y la salud son los predictores más fuertes de la felicidad nacional, seguidos por las libertades. La generosidad parece tener una relación inversa con la prosperidad, mientras que la corrupción no impide completamente la felicidad si otros factores están presentes."
   ]
  },
  {
   "cell_type": "code",
   "execution_count": 67,
   "id": "43d1a62f-d031-4670-bbcd-ea17da2e16a3",
   "metadata": {},
   "outputs": [
    {
     "data": {
      "image/png": "[encoded data removed]",
      "text/plain": [
       "<Figure size 800x500 with 1 Axes>"
      ]
     },
     "metadata": {},
     "output_type": "display_data"
    },
    {
     "data": {
      "image/png": "[encoded data removed]",
      "text/plain": [
       "<Figure size 800x500 with 1 Axes>"
      ]
     },
     "metadata": {},
     "output_type": "display_data"
    },
    {
     "data": {
      "image/png": "[encoded data removed]",
      "text/plain": [
       "<Figure size 800x500 with 1 Axes>"
      ]
     },
     "metadata": {},
     "output_type": "display_data"
    },
    {
     "data": {
      "image/png": "[encoded data removed]",
      "text/plain": [
       "<Figure size 800x500 with 1 Axes>"
      ]
     },
     "metadata": {},
     "output_type": "display_data"
    },
    {
     "data": {
      "image/png": "[encoded data removed]",
      "text/plain": [
       "<Figure size 800x500 with 1 Axes>"
      ]
     },
     "metadata": {},
     "output_type": "display_data"
    }
   ],
   "source": [
    "# Boxplots para ver outliers\n",
    "for col in features:\n",
    "    plt.figure()\n",
    "    sns.boxplot(y=df_model[col])\n",
    "    plt.title(f\"Distribución de {col}\")\n",
    "    plt.show()"
   ]
  },
  {
   "cell_type": "code",
   "execution_count": 68,
   "id": "b3d2cf9e-4b7d-4335-8956-520b0724fb8d",
   "metadata": {},
   "outputs": [
    {
     "name": "stderr",
     "output_type": "stream",
     "text": [
      "C:\\Users\\santi\\anaconda3\\Lib\\site-packages\\sklearn\\cluster\\_kmeans.py:1419: UserWarning:\n",
      "\n",
      "KMeans is known to have a memory leak on Windows with MKL, when there are less chunks than available threads. You can avoid it by setting the environment variable OMP_NUM_THREADS=1.\n",
      "\n",
      "C:\\Users\\santi\\anaconda3\\Lib\\site-packages\\sklearn\\cluster\\_kmeans.py:1419: UserWarning:\n",
      "\n",
      "KMeans is known to have a memory leak on Windows with MKL, when there are less chunks than available threads. You can avoid it by setting the environment variable OMP_NUM_THREADS=1.\n",
      "\n",
      "C:\\Users\\santi\\anaconda3\\Lib\\site-packages\\sklearn\\cluster\\_kmeans.py:1419: UserWarning:\n",
      "\n",
      "KMeans is known to have a memory leak on Windows with MKL, when there are less chunks than available threads. You can avoid it by setting the environment variable OMP_NUM_THREADS=1.\n",
      "\n",
      "C:\\Users\\santi\\anaconda3\\Lib\\site-packages\\sklearn\\cluster\\_kmeans.py:1419: UserWarning:\n",
      "\n",
      "KMeans is known to have a memory leak on Windows with MKL, when there are less chunks than available threads. You can avoid it by setting the environment variable OMP_NUM_THREADS=1.\n",
      "\n",
      "C:\\Users\\santi\\anaconda3\\Lib\\site-packages\\sklearn\\cluster\\_kmeans.py:1419: UserWarning:\n",
      "\n",
      "KMeans is known to have a memory leak on Windows with MKL, when there are less chunks than available threads. You can avoid it by setting the environment variable OMP_NUM_THREADS=1.\n",
      "\n",
      "C:\\Users\\santi\\anaconda3\\Lib\\site-packages\\sklearn\\cluster\\_kmeans.py:1419: UserWarning:\n",
      "\n",
      "KMeans is known to have a memory leak on Windows with MKL, when there are less chunks than available threads. You can avoid it by setting the environment variable OMP_NUM_THREADS=1.\n",
      "\n",
      "C:\\Users\\santi\\anaconda3\\Lib\\site-packages\\sklearn\\cluster\\_kmeans.py:1419: UserWarning:\n",
      "\n",
      "KMeans is known to have a memory leak on Windows with MKL, when there are less chunks than available threads. You can avoid it by setting the environment variable OMP_NUM_THREADS=1.\n",
      "\n",
      "C:\\Users\\santi\\anaconda3\\Lib\\site-packages\\sklearn\\cluster\\_kmeans.py:1419: UserWarning:\n",
      "\n",
      "KMeans is known to have a memory leak on Windows with MKL, when there are less chunks than available threads. You can avoid it by setting the environment variable OMP_NUM_THREADS=1.\n",
      "\n"
     ]
    },
    {
     "data": {
      "image/png": "[encoded data removed]",
      "text/plain": [
       "<Figure size 800x500 with 1 Axes>"
      ]
     },
     "metadata": {},
     "output_type": "display_data"
    }
   ],
   "source": [
    "# 6. Determinación del número óptimo de clusters (K)\n",
    "# Método del codo\n",
    "inertia = []\n",
    "K_range = range(2, 10)\n",
    "\n",
    "for k in K_range:\n",
    "    kmeans = KMeans(n_clusters=k, random_state=42)\n",
    "    kmeans.fit(df_scaled)\n",
    "    inertia.append(kmeans.inertia_)\n",
    "\n",
    "plt.plot(K_range, inertia, marker='o')\n",
    "plt.title(\"Método del codo\")\n",
    "plt.xlabel(\"Número de clusters (k)\")\n",
    "plt.ylabel(\"Inercia\")\n",
    "plt.show()"
   ]
  },
  {
   "cell_type": "code",
   "execution_count": 69,
   "id": "91857540-8fad-4768-b4e5-3b623d2562c6",
   "metadata": {},
   "outputs": [
    {
     "name": "stdout",
     "output_type": "stream",
     "text": [
      "k=2 => Silhouette Score: 0.310\n",
      "k=3 => Silhouette Score: 0.330\n",
      "k=4 => Silhouette Score: 0.307\n",
      "k=5 => Silhouette Score: 0.254\n"
     ]
    },
    {
     "name": "stderr",
     "output_type": "stream",
     "text": [
      "C:\\Users\\santi\\anaconda3\\Lib\\site-packages\\sklearn\\cluster\\_kmeans.py:1419: UserWarning:\n",
      "\n",
      "KMeans is known to have a memory leak on Windows with MKL, when there are less chunks than available threads. You can avoid it by setting the environment variable OMP_NUM_THREADS=1.\n",
      "\n",
      "C:\\Users\\santi\\anaconda3\\Lib\\site-packages\\sklearn\\cluster\\_kmeans.py:1419: UserWarning:\n",
      "\n",
      "KMeans is known to have a memory leak on Windows with MKL, when there are less chunks than available threads. You can avoid it by setting the environment variable OMP_NUM_THREADS=1.\n",
      "\n",
      "C:\\Users\\santi\\anaconda3\\Lib\\site-packages\\sklearn\\cluster\\_kmeans.py:1419: UserWarning:\n",
      "\n",
      "KMeans is known to have a memory leak on Windows with MKL, when there are less chunks than available threads. You can avoid it by setting the environment variable OMP_NUM_THREADS=1.\n",
      "\n",
      "C:\\Users\\santi\\anaconda3\\Lib\\site-packages\\sklearn\\cluster\\_kmeans.py:1419: UserWarning:\n",
      "\n",
      "KMeans is known to have a memory leak on Windows with MKL, when there are less chunks than available threads. You can avoid it by setting the environment variable OMP_NUM_THREADS=1.\n",
      "\n"
     ]
    }
   ],
   "source": [
    "# Silhouette Score (opcional)\n",
    "for k in range(2, 6):\n",
    "    kmeans = KMeans(n_clusters=k, random_state=42)\n",
    "    labels = kmeans.fit_predict(df_scaled)\n",
    "    sil = silhouette_score(df_scaled, labels)\n",
    "    print(f\"k={k} => Silhouette Score: {sil:.3f}\")"
   ]
  },
  {
   "cell_type": "code",
   "execution_count": 70,
   "id": "ac7bf0f9-47cb-45c2-88e5-c8b8e4ec1a4d",
   "metadata": {},
   "outputs": [
    {
     "name": "stdout",
     "output_type": "stream",
     "text": [
      "\n",
      "Clusters asignados:\n"
     ]
    },
    {
     "name": "stderr",
     "output_type": "stream",
     "text": [
      "C:\\Users\\santi\\anaconda3\\Lib\\site-packages\\sklearn\\cluster\\_kmeans.py:1419: UserWarning:\n",
      "\n",
      "KMeans is known to have a memory leak on Windows with MKL, when there are less chunks than available threads. You can avoid it by setting the environment variable OMP_NUM_THREADS=1.\n",
      "\n"
     ]
    },
    {
     "data": {
      "text/html": [
       "<div>\n",
       "<style scoped>\n",
       "    .dataframe tbody tr th:only-of-type {\n",
       "        vertical-align: middle;\n",
       "    }\n",
       "\n",
       "    .dataframe tbody tr th {\n",
       "        vertical-align: top;\n",
       "    }\n",
       "\n",
       "    .dataframe thead th {\n",
       "        text-align: right;\n",
       "    }\n",
       "</style>\n",
       "<table border=\"1\" class=\"dataframe\">\n",
       "  <thead>\n",
       "    <tr style=\"text-align: right;\">\n",
       "      <th></th>\n",
       "      <th>Country</th>\n",
       "      <th>Score</th>\n",
       "      <th>Cluster</th>\n",
       "    </tr>\n",
       "  </thead>\n",
       "  <tbody>\n",
       "    <tr>\n",
       "      <th>0</th>\n",
       "      <td>Finland</td>\n",
       "      <td>7.821</td>\n",
       "      <td>2</td>\n",
       "    </tr>\n",
       "    <tr>\n",
       "      <th>1</th>\n",
       "      <td>Denmark</td>\n",
       "      <td>7.636</td>\n",
       "      <td>2</td>\n",
       "    </tr>\n",
       "    <tr>\n",
       "      <th>2</th>\n",
       "      <td>Iceland</td>\n",
       "      <td>7.557</td>\n",
       "      <td>2</td>\n",
       "    </tr>\n",
       "    <tr>\n",
       "      <th>3</th>\n",
       "      <td>Switzerland</td>\n",
       "      <td>7.512</td>\n",
       "      <td>2</td>\n",
       "    </tr>\n",
       "    <tr>\n",
       "      <th>4</th>\n",
       "      <td>Netherlands</td>\n",
       "      <td>7.415</td>\n",
       "      <td>2</td>\n",
       "    </tr>\n",
       "    <tr>\n",
       "      <th>5</th>\n",
       "      <td>Luxembourg*</td>\n",
       "      <td>7.404</td>\n",
       "      <td>2</td>\n",
       "    </tr>\n",
       "    <tr>\n",
       "      <th>6</th>\n",
       "      <td>Sweden</td>\n",
       "      <td>7.384</td>\n",
       "      <td>2</td>\n",
       "    </tr>\n",
       "    <tr>\n",
       "      <th>7</th>\n",
       "      <td>Norway</td>\n",
       "      <td>7.365</td>\n",
       "      <td>2</td>\n",
       "    </tr>\n",
       "    <tr>\n",
       "      <th>8</th>\n",
       "      <td>Israel</td>\n",
       "      <td>7.364</td>\n",
       "      <td>0</td>\n",
       "    </tr>\n",
       "    <tr>\n",
       "      <th>9</th>\n",
       "      <td>New Zealand</td>\n",
       "      <td>7.200</td>\n",
       "      <td>2</td>\n",
       "    </tr>\n",
       "  </tbody>\n",
       "</table>\n",
       "</div>"
      ],
      "text/plain": [
       "       Country  Score  Cluster\n",
       "0      Finland  7.821        2\n",
       "1      Denmark  7.636        2\n",
       "2      Iceland  7.557        2\n",
       "3  Switzerland  7.512        2\n",
       "4  Netherlands  7.415        2\n",
       "5  Luxembourg*  7.404        2\n",
       "6       Sweden  7.384        2\n",
       "7       Norway  7.365        2\n",
       "8       Israel  7.364        0\n",
       "9  New Zealand  7.200        2"
      ]
     },
     "metadata": {},
     "output_type": "display_data"
    }
   ],
   "source": [
    "# 7. Aplicación de K-means\n",
    "\n",
    "# Usamos k=3 como ejemplo (según codo/silueta)\n",
    "kmeans = KMeans(n_clusters=3, random_state=42)\n",
    "df['Cluster'] = kmeans.fit_predict(df_scaled)\n",
    "\n",
    "# Mostrar resultados\n",
    "print(\"\\nClusters asignados:\")\n",
    "display(df[['Country', 'Score', 'Cluster']].head(10))"
   ]
  },
  {
   "cell_type": "code",
   "execution_count": 71,
   "id": "b8ed4205-8c5a-4408-b20b-c7403b2bdf2d",
   "metadata": {},
   "outputs": [
    {
     "data": {
      "image/png": "[encoded data removed]",
      "text/plain": [
       "<Figure size 800x500 with 1 Axes>"
      ]
     },
     "metadata": {},
     "output_type": "display_data"
    }
   ],
   "source": [
    "# Visualización de clusters\n",
    "plt.figure()\n",
    "sns.scatterplot(x=df['GDP'], y=df['Health'], hue=df['Cluster'], palette=\"deep\")\n",
    "plt.title(\"Clusters por PIB vs Salud\")\n",
    "plt.xlabel(\"PIB\")\n",
    "plt.ylabel(\"Salud\")\n",
    "plt.show()"
   ]
  },
  {
   "cell_type": "markdown",
   "id": "ba85f760-66cd-4eb0-9121-b5eac5849dd1",
   "metadata": {},
   "source": [
    "Cómo interpretarlos:\n",
    "\n",
    "Cada punto = un país (con su PIB, salud, libertad, etc.).\n",
    "\n",
    "Cada color (azul, naranja, verde) = un grupo (cluster) de países que comparten características similares en esas variables.\n",
    "\n",
    "El algoritmo los agrupa para que los países dentro de un mismo cluster sean más parecidos entre sí y más diferentes de los de otros clusters.\n",
    "\n",
    "En tu gráfico, como pusiste PIB (GDP) en el eje X y Salud (Health) en el eje Y:\n",
    "\n",
    "Los azules son países con cierto rango de PIB y salud, agrupados por similitudes en todas las variables.\n",
    "\n",
    "Los naranjas son países que tienden a tener PIB y salud más bajos (en general).\n",
    "\n",
    "Los verdes son países con PIB y salud más altos, bastante diferenciados del resto."
   ]
  },
  {
   "cell_type": "code",
   "execution_count": 74,
   "id": "9d436425-59e5-4140-b091-f257437dfe22",
   "metadata": {},
   "outputs": [
    {
     "data": {
      "application/vnd.plotly.v1+json": {
       "config": {
        "plotlyServerURL": "https://plot.ly"
       },
       "data": [
        {
         "colorscale": [
          [
           0,
           "orange"
          ],
          [
           1,
           "orange"
          ]
         ],
         "geo": "geo",
         "hovertemplate": "color=2<br>Country_plotly=%{location}<extra></extra>",
         "locationmode": "country names",
         "locations": [
          "Finland",
          "Denmark",
          "Iceland",
          "Switzerland",
          "Netherlands",
          "Luxembourg*",
          "Sweden",
          "Norway",
          "New Zealand",
          "Austria",
          "Australia",
          "Ireland",
          "Germany",
          "Canada",
          "United Kingdom",
          "United Arab Emirates",
          "Singapore",
          "Estonia",
          "Uzbekistan",
          "Hong Kong",
          "Rwanda*"
         ],
         "name": "2",
         "showlegend": true,
         "showscale": false,
         "type": "choropleth",
         "z": [
          1,
          1,
          1,
          1,
          1,
          1,
          1,
          1,
          1,
          1,
          1,
          1,
          1,
          1,
          1,
          1,
          1,
          1,
          1,
          1,
          1
         ]
        },
        {
         "colorscale": [
          [
           0,
           "blue"
          ],
          [
           1,
           "blue"
          ]
         ],
         "geo": "geo",
         "hovertemplate": "color=0<br>Country_plotly=%{location}<extra></extra>",
         "locationmode": "country names",
         "locations": [
          "Israel",
          "United States",
          "Czechia",
          "Belgium",
          "France",
          "Bahrain",
          "Slovenia",
          "Costa Rica",
          "Saudi Arabia",
          "Taiwan Province of China",
          "Romania",
          "Spain",
          "Uruguay",
          "Italy",
          "Kosovo",
          "Malta",
          "Lithuania",
          "Slovakia",
          "Panama",
          "Brazil",
          "Guatemala*",
          "Kazakhstan",
          "Cyprus",
          "Latvia",
          "Serbia",
          "Chile",
          "Nicaragua",
          "Mexico",
          "Croatia",
          "Poland",
          "El Salvador",
          "Kuwait*",
          "Hungary",
          "Mauritius",
          "Japan",
          "Honduras",
          "Portugal",
          "Argentina",
          "Greece",
          "South Korea",
          "Philippines",
          "Thailand",
          "Moldova",
          "Jamaica",
          "Kyrgyzstan",
          "Belarus*",
          "Colombia",
          "Bosnia and Herzegovina",
          "Dominican Republic",
          "Malaysia",
          "Bolivia",
          "China",
          "Paraguay",
          "Peru",
          "Montenegro",
          "Ecuador",
          "Vietnam",
          "Turkmenistan*",
          "North Cyprus*",
          "Russia",
          "Armenia",
          "Tajikistan",
          "Bulgaria",
          "Libya*",
          "North Macedonia",
          "Albania",
          "Azerbaijan*",
          "Bangladesh",
          "Laos",
          "Ukraine",
          "Morocco",
          "Georgia",
          "Turkey",
          "Cambodia",
          "Tunisia",
          "Sri Lanka",
          "Egypt",
          "Jordan",
          "India",
          "Botswana*"
         ],
         "name": "0",
         "showlegend": true,
         "showscale": false,
         "type": "choropleth",
         "z": [
          1,
          1,
          1,
          1,
          1,
          1,
          1,
          1,
          1,
          1,
          1,
          1,
          1,
          1,
          1,
          1,
          1,
          1,
          1,
          1,
          1,
          1,
          1,
          1,
          1,
          1,
          1,
          1,
          1,
          1,
          1,
          1,
          1,
          1,
          1,
          1,
          1,
          1,
          1,
          1,
          1,
          1,
          1,
          1,
          1,
          1,
          1,
          1,
          1,
          1,
          1,
          1,
          1,
          1,
          1,
          1,
          1,
          1,
          1,
          1,
          1,
          1,
          1,
          1,
          1,
          1,
          1,
          1,
          1,
          1,
          1,
          1,
          1,
          1,
          1,
          1,
          1,
          1,
          1,
          1
         ]
        },
        {
         "colorscale": [
          [
           0,
           "green"
          ],
          [
           1,
           "green"
          ]
         ],
         "geo": "geo",
         "hovertemplate": "color=1<br>Country_plotly=%{location}<extra></extra>",
         "locationmode": "country names",
         "locations": [
          "Mongolia",
          "Nepal",
          "Indonesia",
          "Côte d'Ivoire",
          "South Africa",
          "Gambia*",
          "Algeria",
          "Liberia*",
          "Congo",
          "Mozambique",
          "Cameroon",
          "Senegal",
          "Niger*",
          "Gabon",
          "Iraq",
          "Venezuela",
          "Guinea",
          "Iran",
          "Ghana",
          "Burkina Faso",
          "Benin",
          "Comoros*",
          "Uganda",
          "Nigeria",
          "Kenya",
          "Pakistan",
          "Palestinian Territories*",
          "Mali",
          "Namibia",
          "Eswatini, Kingdom of*",
          "Myanmar",
          "Madagascar*",
          "Chad*",
          "Ethiopia",
          "Yemen*",
          "Mauritania*",
          "Togo",
          "Zambia",
          "Malawi",
          "Tanzania",
          "Sierra Leone",
          "Lesotho*",
          "Zimbabwe",
          "Lebanon",
          "Afghanistan"
         ],
         "name": "1",
         "showlegend": true,
         "showscale": false,
         "type": "choropleth",
         "z": [
          1,
          1,
          1,
          1,
          1,
          1,
          1,
          1,
          1,
          1,
          1,
          1,
          1,
          1,
          1,
          1,
          1,
          1,
          1,
          1,
          1,
          1,
          1,
          1,
          1,
          1,
          1,
          1,
          1,
          1,
          1,
          1,
          1,
          1,
          1,
          1,
          1,
          1,
          1,
          1,
          1,
          1,
          1,
          1,
          1
         ]
        }
       ],
       "layout": {
        "geo": {
         "center": {},
         "domain": {
          "x": [
           0,
           1
          ],
          "y": [
           0,
           1
          ]
         }
        },
        "legend": {
         "title": {
          "text": "color"
         },
         "tracegroupgap": 0
        },
        "template": {
         "data": {
          "bar": [
           {
            "error_x": {
             "color": "#2a3f5f"
            },
            "error_y": {
             "color": "#2a3f5f"
            },
            "marker": {
             "line": {
              "color": "#E5ECF6",
              "width": 0.5
             },
             "pattern": {
              "fillmode": "overlay",
              "size": 10,
              "solidity": 0.2
             }
            },
            "type": "bar"
           }
          ],
          "barpolar": [
           {
            "marker": {
             "line": {
              "color": "#E5ECF6",
              "width": 0.5
             },
             "pattern": {
              "fillmode": "overlay",
              "size": 10,
              "solidity": 0.2
             }
            },
            "type": "barpolar"
           }
          ],
          "carpet": [
           {
            "aaxis": {
             "endlinecolor": "#2a3f5f",
             "gridcolor": "white",
             "linecolor": "white",
             "minorgridcolor": "white",
             "startlinecolor": "#2a3f5f"
            },
            "baxis": {
             "endlinecolor": "#2a3f5f",
             "gridcolor": "white",
             "linecolor": "white",
             "minorgridcolor": "white",
             "startlinecolor": "#2a3f5f"
            },
            "type": "carpet"
           }
          ],
          "choropleth": [
           {
            "colorbar": {
             "outlinewidth": 0,
             "ticks": ""
            },
            "type": "choropleth"
           }
          ],
          "contour": [
           {
            "colorbar": {
             "outlinewidth": 0,
             "ticks": ""
            },
            "colorscale": [
             [
              0,
              "#0d0887"
             ],
             [
              0.1111111111111111,
              "#46039f"
             ],
             [
              0.2222222222222222,
              "#7201a8"
             ],
             [
              0.3333333333333333,
              "#9c179e"
             ],
             [
              0.4444444444444444,
              "#bd3786"
             ],
             [
              0.5555555555555556,
              "#d8576b"
             ],
             [
              0.6666666666666666,
              "#ed7953"
             ],
             [
              0.7777777777777778,
              "#fb9f3a"
             ],
             [
              0.8888888888888888,
              "#fdca26"
             ],
             [
              1,
              "#f0f921"
             ]
            ],
            "type": "contour"
           }
          ],
          "contourcarpet": [
           {
            "colorbar": {
             "outlinewidth": 0,
             "ticks": ""
            },
            "type": "contourcarpet"
           }
          ],
          "heatmap": [
           {
            "colorbar": {
             "outlinewidth": 0,
             "ticks": ""
            },
            "colorscale": [
             [
              0,
              "#0d0887"
             ],
             [
              0.1111111111111111,
              "#46039f"
             ],
             [
              0.2222222222222222,
              "#7201a8"
             ],
             [
              0.3333333333333333,
              "#9c179e"
             ],
             [
              0.4444444444444444,
              "#bd3786"
             ],
             [
              0.5555555555555556,
              "#d8576b"
             ],
             [
              0.6666666666666666,
              "#ed7953"
             ],
             [
              0.7777777777777778,
              "#fb9f3a"
             ],
             [
              0.8888888888888888,
              "#fdca26"
             ],
             [
              1,
              "#f0f921"
             ]
            ],
            "type": "heatmap"
           }
          ],
          "heatmapgl": [
           {
            "colorbar": {
             "outlinewidth": 0,
             "ticks": ""
            },
            "colorscale": [
             [
              0,
              "#0d0887"
             ],
             [
              0.1111111111111111,
              "#46039f"
             ],
             [
              0.2222222222222222,
              "#7201a8"
             ],
             [
              0.3333333333333333,
              "#9c179e"
             ],
             [
              0.4444444444444444,
              "#bd3786"
             ],
             [
              0.5555555555555556,
              "#d8576b"
             ],
             [
              0.6666666666666666,
              "#ed7953"
             ],
             [
              0.7777777777777778,
              "#fb9f3a"
             ],
             [
              0.8888888888888888,
              "#fdca26"
             ],
             [
              1,
              "#f0f921"
             ]
            ],
            "type": "heatmapgl"
           }
          ],
          "histogram": [
           {
            "marker": {
             "pattern": {
              "fillmode": "overlay",
              "size": 10,
              "solidity": 0.2
             }
            },
            "type": "histogram"
           }
          ],
          "histogram2d": [
           {
            "colorbar": {
             "outlinewidth": 0,
             "ticks": ""
            },
            "colorscale": [
             [
              0,
              "#0d0887"
             ],
             [
              0.1111111111111111,
              "#46039f"
             ],
             [
              0.2222222222222222,
              "#7201a8"
             ],
             [
              0.3333333333333333,
              "#9c179e"
             ],
             [
              0.4444444444444444,
              "#bd3786"
             ],
             [
              0.5555555555555556,
              "#d8576b"
             ],
             [
              0.6666666666666666,
              "#ed7953"
             ],
             [
              0.7777777777777778,
              "#fb9f3a"
             ],
             [
              0.8888888888888888,
              "#fdca26"
             ],
             [
              1,
              "#f0f921"
             ]
            ],
            "type": "histogram2d"
           }
          ],
          "histogram2dcontour": [
           {
            "colorbar": {
             "outlinewidth": 0,
             "ticks": ""
            },
            "colorscale": [
             [
              0,
              "#0d0887"
             ],
             [
              0.1111111111111111,
              "#46039f"
             ],
             [
              0.2222222222222222,
              "#7201a8"
             ],
             [
              0.3333333333333333,
              "#9c179e"
             ],
             [
              0.4444444444444444,
              "#bd3786"
             ],
             [
              0.5555555555555556,
              "#d8576b"
             ],
             [
              0.6666666666666666,
              "#ed7953"
             ],
             [
              0.7777777777777778,
              "#fb9f3a"
             ],
             [
              0.8888888888888888,
              "#fdca26"
             ],
             [
              1,
              "#f0f921"
             ]
            ],
            "type": "histogram2dcontour"
           }
          ],
          "mesh3d": [
           {
            "colorbar": {
             "outlinewidth": 0,
             "ticks": ""
            },
            "type": "mesh3d"
           }
          ],
          "parcoords": [
           {
            "line": {
             "colorbar": {
              "outlinewidth": 0,
              "ticks": ""
             }
            },
            "type": "parcoords"
           }
          ],
          "pie": [
           {
            "automargin": true,
            "type": "pie"
           }
          ],
          "scatter": [
           {
            "fillpattern": {
             "fillmode": "overlay",
             "size": 10,
             "solidity": 0.2
            },
            "type": "scatter"
           }
          ],
          "scatter3d": [
           {
            "line": {
             "colorbar": {
              "outlinewidth": 0,
              "ticks": ""
             }
            },
            "marker": {
             "colorbar": {
              "outlinewidth": 0,
              "ticks": ""
             }
            },
            "type": "scatter3d"
           }
          ],
          "scattercarpet": [
           {
            "marker": {
             "colorbar": {
              "outlinewidth": 0,
              "ticks": ""
             }
            },
            "type": "scattercarpet"
           }
          ],
          "scattergeo": [
           {
            "marker": {
             "colorbar": {
              "outlinewidth": 0,
              "ticks": ""
             }
            },
            "type": "scattergeo"
           }
          ],
          "scattergl": [
           {
            "marker": {
             "colorbar": {
              "outlinewidth": 0,
              "ticks": ""
             }
            },
            "type": "scattergl"
           }
          ],
          "scattermapbox": [
           {
            "marker": {
             "colorbar": {
              "outlinewidth": 0,
              "ticks": ""
             }
            },
            "type": "scattermapbox"
           }
          ],
          "scatterpolar": [
           {
            "marker": {
             "colorbar": {
              "outlinewidth": 0,
              "ticks": ""
             }
            },
            "type": "scatterpolar"
           }
          ],
          "scatterpolargl": [
           {
            "marker": {
             "colorbar": {
              "outlinewidth": 0,
              "ticks": ""
             }
            },
            "type": "scatterpolargl"
           }
          ],
          "scatterternary": [
           {
            "marker": {
             "colorbar": {
              "outlinewidth": 0,
              "ticks": ""
             }
            },
            "type": "scatterternary"
           }
          ],
          "surface": [
           {
            "colorbar": {
             "outlinewidth": 0,
             "ticks": ""
            },
            "colorscale": [
             [
              0,
              "#0d0887"
             ],
             [
              0.1111111111111111,
              "#46039f"
             ],
             [
              0.2222222222222222,
              "#7201a8"
             ],
             [
              0.3333333333333333,
              "#9c179e"
             ],
             [
              0.4444444444444444,
              "#bd3786"
             ],
             [
              0.5555555555555556,
              "#d8576b"
             ],
             [
              0.6666666666666666,
              "#ed7953"
             ],
             [
              0.7777777777777778,
              "#fb9f3a"
             ],
             [
              0.8888888888888888,
              "#fdca26"
             ],
             [
              1,
              "#f0f921"
             ]
            ],
            "type": "surface"
           }
          ],
          "table": [
           {
            "cells": {
             "fill": {
              "color": "#EBF0F8"
             },
             "line": {
              "color": "white"
             }
            },
            "header": {
             "fill": {
              "color": "#C8D4E3"
             },
             "line": {
              "color": "white"
             }
            },
            "type": "table"
           }
          ]
         },
         "layout": {
          "annotationdefaults": {
           "arrowcolor": "#2a3f5f",
           "arrowhead": 0,
           "arrowwidth": 1
          },
          "autotypenumbers": "strict",
          "coloraxis": {
           "colorbar": {
            "outlinewidth": 0,
            "ticks": ""
           }
          },
          "colorscale": {
           "diverging": [
            [
             0,
             "#8e0152"
            ],
            [
             0.1,
             "#c51b7d"
            ],
            [
             0.2,
             "#de77ae"
            ],
            [
             0.3,
             "#f1b6da"
            ],
            [
             0.4,
             "#fde0ef"
            ],
            [
             0.5,
             "#f7f7f7"
            ],
            [
             0.6,
             "#e6f5d0"
            ],
            [
             0.7,
             "#b8e186"
            ],
            [
             0.8,
             "#7fbc41"
            ],
            [
             0.9,
             "#4d9221"
            ],
            [
             1,
             "#276419"
            ]
           ],
           "sequential": [
            [
             0,
             "#0d0887"
            ],
            [
             0.1111111111111111,
             "#46039f"
            ],
            [
             0.2222222222222222,
             "#7201a8"
            ],
            [
             0.3333333333333333,
             "#9c179e"
            ],
            [
             0.4444444444444444,
             "#bd3786"
            ],
            [
             0.5555555555555556,
             "#d8576b"
            ],
            [
             0.6666666666666666,
             "#ed7953"
            ],
            [
             0.7777777777777778,
             "#fb9f3a"
            ],
            [
             0.8888888888888888,
             "#fdca26"
            ],
            [
             1,
             "#f0f921"
            ]
           ],
           "sequentialminus": [
            [
             0,
             "#0d0887"
            ],
            [
             0.1111111111111111,
             "#46039f"
            ],
            [
             0.2222222222222222,
             "#7201a8"
            ],
            [
             0.3333333333333333,
             "#9c179e"
            ],
            [
             0.4444444444444444,
             "#bd3786"
            ],
            [
             0.5555555555555556,
             "#d8576b"
            ],
            [
             0.6666666666666666,
             "#ed7953"
            ],
            [
             0.7777777777777778,
             "#fb9f3a"
            ],
            [
             0.8888888888888888,
             "#fdca26"
            ],
            [
             1,
             "#f0f921"
            ]
           ]
          },
          "colorway": [
           "#636efa",
           "#EF553B",
           "#00cc96",
           "#ab63fa",
           "#FFA15A",
           "#19d3f3",
           "#FF6692",
           "#B6E880",
           "#FF97FF",
           "#FECB52"
          ],
          "font": {
           "color": "#2a3f5f"
          },
          "geo": {
           "bgcolor": "white",
           "lakecolor": "white",
           "landcolor": "#E5ECF6",
           "showlakes": true,
           "showland": true,
           "subunitcolor": "white"
          },
          "hoverlabel": {
           "align": "left"
          },
          "hovermode": "closest",
          "mapbox": {
           "style": "light"
          },
          "paper_bgcolor": "white",
          "plot_bgcolor": "#E5ECF6",
          "polar": {
           "angularaxis": {
            "gridcolor": "white",
            "linecolor": "white",
            "ticks": ""
           },
           "bgcolor": "#E5ECF6",
           "radialaxis": {
            "gridcolor": "white",
            "linecolor": "white",
            "ticks": ""
           }
          },
          "scene": {
           "xaxis": {
            "backgroundcolor": "#E5ECF6",
            "gridcolor": "white",
            "gridwidth": 2,
            "linecolor": "white",
            "showbackground": true,
            "ticks": "",
            "zerolinecolor": "white"
           },
           "yaxis": {
            "backgroundcolor": "#E5ECF6",
            "gridcolor": "white",
            "gridwidth": 2,
            "linecolor": "white",
            "showbackground": true,
            "ticks": "",
            "zerolinecolor": "white"
           },
           "zaxis": {
            "backgroundcolor": "#E5ECF6",
            "gridcolor": "white",
            "gridwidth": 2,
            "linecolor": "white",
            "showbackground": true,
            "ticks": "",
            "zerolinecolor": "white"
           }
          },
          "shapedefaults": {
           "line": {
            "color": "#2a3f5f"
           }
          },
          "ternary": {
           "aaxis": {
            "gridcolor": "white",
            "linecolor": "white",
            "ticks": ""
           },
           "baxis": {
            "gridcolor": "white",
            "linecolor": "white",
            "ticks": ""
           },
           "bgcolor": "#E5ECF6",
           "caxis": {
            "gridcolor": "white",
            "linecolor": "white",
            "ticks": ""
           }
          },
          "title": {
           "x": 0.05
          },
          "xaxis": {
           "automargin": true,
           "gridcolor": "white",
           "linecolor": "white",
           "ticks": "",
           "title": {
            "standoff": 15
           },
           "zerolinecolor": "white",
           "zerolinewidth": 2
          },
          "yaxis": {
           "automargin": true,
           "gridcolor": "white",
           "linecolor": "white",
           "ticks": "",
           "title": {
            "standoff": 15
           },
           "zerolinecolor": "white",
           "zerolinewidth": 2
          }
         }
        },
        "title": {
         "text": "Clusters K-means por país (World Happiness Report 2022)"
        }
       }
      },
      "image/png": "[encoded data removed]",
      "text/html": [
       "<div>                            <div id=\"ce3bb6f9-dc67-4815-b974-6c7f41e8a802\" class=\"plotly-graph-div\" style=\"height:525px; width:100%;\"></div>            <script type=\"text/javascript\">                require([\"plotly\"], function(Plotly) {                    window.PLOTLYENV=window.PLOTLYENV || {};                                    if (document.getElementById(\"ce3bb6f9-dc67-4815-b974-6c7f41e8a802\")) {                    Plotly.newPlot(                        \"ce3bb6f9-dc67-4815-b974-6c7f41e8a802\",                        [{\"colorscale\":[[0.0,\"orange\"],[1.0,\"orange\"]],\"geo\":\"geo\",\"hovertemplate\":\"color=2\\u003cbr\\u003eCountry_plotly=%{location}\\u003cextra\\u003e\\u003c\\u002fextra\\u003e\",\"locationmode\":\"country names\",\"locations\":[\"Finland\",\"Denmark\",\"Iceland\",\"Switzerland\",\"Netherlands\",\"Luxembourg*\",\"Sweden\",\"Norway\",\"New Zealand\",\"Austria\",\"Australia\",\"Ireland\",\"Germany\",\"Canada\",\"United Kingdom\",\"United Arab Emirates\",\"Singapore\",\"Estonia\",\"Uzbekistan\",\"Hong Kong\",\"Rwanda*\"],\"name\":\"2\",\"showlegend\":true,\"showscale\":false,\"z\":[1,1,1,1,1,1,1,1,1,1,1,1,1,1,1,1,1,1,1,1,1],\"type\":\"choropleth\"},{\"colorscale\":[[0.0,\"blue\"],[1.0,\"blue\"]],\"geo\":\"geo\",\"hovertemplate\":\"color=0\\u003cbr\\u003eCountry_plotly=%{location}\\u003cextra\\u003e\\u003c\\u002fextra\\u003e\",\"locationmode\":\"country names\",\"locations\":[\"Israel\",\"United States\",\"Czechia\",\"Belgium\",\"France\",\"Bahrain\",\"Slovenia\",\"Costa Rica\",\"Saudi Arabia\",\"Taiwan Province of China\",\"Romania\",\"Spain\",\"Uruguay\",\"Italy\",\"Kosovo\",\"Malta\",\"Lithuania\",\"Slovakia\",\"Panama\",\"Brazil\",\"Guatemala*\",\"Kazakhstan\",\"Cyprus\",\"Latvia\",\"Serbia\",\"Chile\",\"Nicaragua\",\"Mexico\",\"Croatia\",\"Poland\",\"El Salvador\",\"Kuwait*\",\"Hungary\",\"Mauritius\",\"Japan\",\"Honduras\",\"Portugal\",\"Argentina\",\"Greece\",\"South Korea\",\"Philippines\",\"Thailand\",\"Moldova\",\"Jamaica\",\"Kyrgyzstan\",\"Belarus*\",\"Colombia\",\"Bosnia and Herzegovina\",\"Dominican Republic\",\"Malaysia\",\"Bolivia\",\"China\",\"Paraguay\",\"Peru\",\"Montenegro\",\"Ecuador\",\"Vietnam\",\"Turkmenistan*\",\"North Cyprus*\",\"Russia\",\"Armenia\",\"Tajikistan\",\"Bulgaria\",\"Libya*\",\"North Macedonia\",\"Albania\",\"Azerbaijan*\",\"Bangladesh\",\"Laos\",\"Ukraine\",\"Morocco\",\"Georgia\",\"Turkey\",\"Cambodia\",\"Tunisia\",\"Sri Lanka\",\"Egypt\",\"Jordan\",\"India\",\"Botswana*\"],\"name\":\"0\",\"showlegend\":true,\"showscale\":false,\"z\":[1,1,1,1,1,1,1,1,1,1,1,1,1,1,1,1,1,1,1,1,1,1,1,1,1,1,1,1,1,1,1,1,1,1,1,1,1,1,1,1,1,1,1,1,1,1,1,1,1,1,1,1,1,1,1,1,1,1,1,1,1,1,1,1,1,1,1,1,1,1,1,1,1,1,1,1,1,1,1,1],\"type\":\"choropleth\"},{\"colorscale\":[[0.0,\"green\"],[1.0,\"green\"]],\"geo\":\"geo\",\"hovertemplate\":\"color=1\\u003cbr\\u003eCountry_plotly=%{location}\\u003cextra\\u003e\\u003c\\u002fextra\\u003e\",\"locationmode\":\"country names\",\"locations\":[\"Mongolia\",\"Nepal\",\"Indonesia\",\"C\\u00f4te d'Ivoire\",\"South Africa\",\"Gambia*\",\"Algeria\",\"Liberia*\",\"Congo\",\"Mozambique\",\"Cameroon\",\"Senegal\",\"Niger*\",\"Gabon\",\"Iraq\",\"Venezuela\",\"Guinea\",\"Iran\",\"Ghana\",\"Burkina Faso\",\"Benin\",\"Comoros*\",\"Uganda\",\"Nigeria\",\"Kenya\",\"Pakistan\",\"Palestinian Territories*\",\"Mali\",\"Namibia\",\"Eswatini, Kingdom of*\",\"Myanmar\",\"Madagascar*\",\"Chad*\",\"Ethiopia\",\"Yemen*\",\"Mauritania*\",\"Togo\",\"Zambia\",\"Malawi\",\"Tanzania\",\"Sierra Leone\",\"Lesotho*\",\"Zimbabwe\",\"Lebanon\",\"Afghanistan\"],\"name\":\"1\",\"showlegend\":true,\"showscale\":false,\"z\":[1,1,1,1,1,1,1,1,1,1,1,1,1,1,1,1,1,1,1,1,1,1,1,1,1,1,1,1,1,1,1,1,1,1,1,1,1,1,1,1,1,1,1,1,1],\"type\":\"choropleth\"}],                        {\"template\":{\"data\":{\"histogram2dcontour\":[{\"type\":\"histogram2dcontour\",\"colorbar\":{\"outlinewidth\":0,\"ticks\":\"\"},\"colorscale\":[[0.0,\"#0d0887\"],[0.1111111111111111,\"#46039f\"],[0.2222222222222222,\"#7201a8\"],[0.3333333333333333,\"#9c179e\"],[0.4444444444444444,\"#bd3786\"],[0.5555555555555556,\"#d8576b\"],[0.6666666666666666,\"#ed7953\"],[0.7777777777777778,\"#fb9f3a\"],[0.8888888888888888,\"#fdca26\"],[1.0,\"#f0f921\"]]}],\"choropleth\":[{\"type\":\"choropleth\",\"colorbar\":{\"outlinewidth\":0,\"ticks\":\"\"}}],\"histogram2d\":[{\"type\":\"histogram2d\",\"colorbar\":{\"outlinewidth\":0,\"ticks\":\"\"},\"colorscale\":[[0.0,\"#0d0887\"],[0.1111111111111111,\"#46039f\"],[0.2222222222222222,\"#7201a8\"],[0.3333333333333333,\"#9c179e\"],[0.4444444444444444,\"#bd3786\"],[0.5555555555555556,\"#d8576b\"],[0.6666666666666666,\"#ed7953\"],[0.7777777777777778,\"#fb9f3a\"],[0.8888888888888888,\"#fdca26\"],[1.0,\"#f0f921\"]]}],\"heatmap\":[{\"type\":\"heatmap\",\"colorbar\":{\"outlinewidth\":0,\"ticks\":\"\"},\"colorscale\":[[0.0,\"#0d0887\"],[0.1111111111111111,\"#46039f\"],[0.2222222222222222,\"#7201a8\"],[0.3333333333333333,\"#9c179e\"],[0.4444444444444444,\"#bd3786\"],[0.5555555555555556,\"#d8576b\"],[0.6666666666666666,\"#ed7953\"],[0.7777777777777778,\"#fb9f3a\"],[0.8888888888888888,\"#fdca26\"],[1.0,\"#f0f921\"]]}],\"heatmapgl\":[{\"type\":\"heatmapgl\",\"colorbar\":{\"outlinewidth\":0,\"ticks\":\"\"},\"colorscale\":[[0.0,\"#0d0887\"],[0.1111111111111111,\"#46039f\"],[0.2222222222222222,\"#7201a8\"],[0.3333333333333333,\"#9c179e\"],[0.4444444444444444,\"#bd3786\"],[0.5555555555555556,\"#d8576b\"],[0.6666666666666666,\"#ed7953\"],[0.7777777777777778,\"#fb9f3a\"],[0.8888888888888888,\"#fdca26\"],[1.0,\"#f0f921\"]]}],\"contourcarpet\":[{\"type\":\"contourcarpet\",\"colorbar\":{\"outlinewidth\":0,\"ticks\":\"\"}}],\"contour\":[{\"type\":\"contour\",\"colorbar\":{\"outlinewidth\":0,\"ticks\":\"\"},\"colorscale\":[[0.0,\"#0d0887\"],[0.1111111111111111,\"#46039f\"],[0.2222222222222222,\"#7201a8\"],[0.3333333333333333,\"#9c179e\"],[0.4444444444444444,\"#bd3786\"],[0.5555555555555556,\"#d8576b\"],[0.6666666666666666,\"#ed7953\"],[0.7777777777777778,\"#fb9f3a\"],[0.8888888888888888,\"#fdca26\"],[1.0,\"#f0f921\"]]}],\"surface\":[{\"type\":\"surface\",\"colorbar\":{\"outlinewidth\":0,\"ticks\":\"\"},\"colorscale\":[[0.0,\"#0d0887\"],[0.1111111111111111,\"#46039f\"],[0.2222222222222222,\"#7201a8\"],[0.3333333333333333,\"#9c179e\"],[0.4444444444444444,\"#bd3786\"],[0.5555555555555556,\"#d8576b\"],[0.6666666666666666,\"#ed7953\"],[0.7777777777777778,\"#fb9f3a\"],[0.8888888888888888,\"#fdca26\"],[1.0,\"#f0f921\"]]}],\"mesh3d\":[{\"type\":\"mesh3d\",\"colorbar\":{\"outlinewidth\":0,\"ticks\":\"\"}}],\"scatter\":[{\"fillpattern\":{\"fillmode\":\"overlay\",\"size\":10,\"solidity\":0.2},\"type\":\"scatter\"}],\"parcoords\":[{\"type\":\"parcoords\",\"line\":{\"colorbar\":{\"outlinewidth\":0,\"ticks\":\"\"}}}],\"scatterpolargl\":[{\"type\":\"scatterpolargl\",\"marker\":{\"colorbar\":{\"outlinewidth\":0,\"ticks\":\"\"}}}],\"bar\":[{\"error_x\":{\"color\":\"#2a3f5f\"},\"error_y\":{\"color\":\"#2a3f5f\"},\"marker\":{\"line\":{\"color\":\"#E5ECF6\",\"width\":0.5},\"pattern\":{\"fillmode\":\"overlay\",\"size\":10,\"solidity\":0.2}},\"type\":\"bar\"}],\"scattergeo\":[{\"type\":\"scattergeo\",\"marker\":{\"colorbar\":{\"outlinewidth\":0,\"ticks\":\"\"}}}],\"scatterpolar\":[{\"type\":\"scatterpolar\",\"marker\":{\"colorbar\":{\"outlinewidth\":0,\"ticks\":\"\"}}}],\"histogram\":[{\"marker\":{\"pattern\":{\"fillmode\":\"overlay\",\"size\":10,\"solidity\":0.2}},\"type\":\"histogram\"}],\"scattergl\":[{\"type\":\"scattergl\",\"marker\":{\"colorbar\":{\"outlinewidth\":0,\"ticks\":\"\"}}}],\"scatter3d\":[{\"type\":\"scatter3d\",\"line\":{\"colorbar\":{\"outlinewidth\":0,\"ticks\":\"\"}},\"marker\":{\"colorbar\":{\"outlinewidth\":0,\"ticks\":\"\"}}}],\"scattermapbox\":[{\"type\":\"scattermapbox\",\"marker\":{\"colorbar\":{\"outlinewidth\":0,\"ticks\":\"\"}}}],\"scatterternary\":[{\"type\":\"scatterternary\",\"marker\":{\"colorbar\":{\"outlinewidth\":0,\"ticks\":\"\"}}}],\"scattercarpet\":[{\"type\":\"scattercarpet\",\"marker\":{\"colorbar\":{\"outlinewidth\":0,\"ticks\":\"\"}}}],\"carpet\":[{\"aaxis\":{\"endlinecolor\":\"#2a3f5f\",\"gridcolor\":\"white\",\"linecolor\":\"white\",\"minorgridcolor\":\"white\",\"startlinecolor\":\"#2a3f5f\"},\"baxis\":{\"endlinecolor\":\"#2a3f5f\",\"gridcolor\":\"white\",\"linecolor\":\"white\",\"minorgridcolor\":\"white\",\"startlinecolor\":\"#2a3f5f\"},\"type\":\"carpet\"}],\"table\":[{\"cells\":{\"fill\":{\"color\":\"#EBF0F8\"},\"line\":{\"color\":\"white\"}},\"header\":{\"fill\":{\"color\":\"#C8D4E3\"},\"line\":{\"color\":\"white\"}},\"type\":\"table\"}],\"barpolar\":[{\"marker\":{\"line\":{\"color\":\"#E5ECF6\",\"width\":0.5},\"pattern\":{\"fillmode\":\"overlay\",\"size\":10,\"solidity\":0.2}},\"type\":\"barpolar\"}],\"pie\":[{\"automargin\":true,\"type\":\"pie\"}]},\"layout\":{\"autotypenumbers\":\"strict\",\"colorway\":[\"#636efa\",\"#EF553B\",\"#00cc96\",\"#ab63fa\",\"#FFA15A\",\"#19d3f3\",\"#FF6692\",\"#B6E880\",\"#FF97FF\",\"#FECB52\"],\"font\":{\"color\":\"#2a3f5f\"},\"hovermode\":\"closest\",\"hoverlabel\":{\"align\":\"left\"},\"paper_bgcolor\":\"white\",\"plot_bgcolor\":\"#E5ECF6\",\"polar\":{\"bgcolor\":\"#E5ECF6\",\"angularaxis\":{\"gridcolor\":\"white\",\"linecolor\":\"white\",\"ticks\":\"\"},\"radialaxis\":{\"gridcolor\":\"white\",\"linecolor\":\"white\",\"ticks\":\"\"}},\"ternary\":{\"bgcolor\":\"#E5ECF6\",\"aaxis\":{\"gridcolor\":\"white\",\"linecolor\":\"white\",\"ticks\":\"\"},\"baxis\":{\"gridcolor\":\"white\",\"linecolor\":\"white\",\"ticks\":\"\"},\"caxis\":{\"gridcolor\":\"white\",\"linecolor\":\"white\",\"ticks\":\"\"}},\"coloraxis\":{\"colorbar\":{\"outlinewidth\":0,\"ticks\":\"\"}},\"colorscale\":{\"sequential\":[[0.0,\"#0d0887\"],[0.1111111111111111,\"#46039f\"],[0.2222222222222222,\"#7201a8\"],[0.3333333333333333,\"#9c179e\"],[0.4444444444444444,\"#bd3786\"],[0.5555555555555556,\"#d8576b\"],[0.6666666666666666,\"#ed7953\"],[0.7777777777777778,\"#fb9f3a\"],[0.8888888888888888,\"#fdca26\"],[1.0,\"#f0f921\"]],\"sequentialminus\":[[0.0,\"#0d0887\"],[0.1111111111111111,\"#46039f\"],[0.2222222222222222,\"#7201a8\"],[0.3333333333333333,\"#9c179e\"],[0.4444444444444444,\"#bd3786\"],[0.5555555555555556,\"#d8576b\"],[0.6666666666666666,\"#ed7953\"],[0.7777777777777778,\"#fb9f3a\"],[0.8888888888888888,\"#fdca26\"],[1.0,\"#f0f921\"]],\"diverging\":[[0,\"#8e0152\"],[0.1,\"#c51b7d\"],[0.2,\"#de77ae\"],[0.3,\"#f1b6da\"],[0.4,\"#fde0ef\"],[0.5,\"#f7f7f7\"],[0.6,\"#e6f5d0\"],[0.7,\"#b8e186\"],[0.8,\"#7fbc41\"],[0.9,\"#4d9221\"],[1,\"#276419\"]]},\"xaxis\":{\"gridcolor\":\"white\",\"linecolor\":\"white\",\"ticks\":\"\",\"title\":{\"standoff\":15},\"zerolinecolor\":\"white\",\"automargin\":true,\"zerolinewidth\":2},\"yaxis\":{\"gridcolor\":\"white\",\"linecolor\":\"white\",\"ticks\":\"\",\"title\":{\"standoff\":15},\"zerolinecolor\":\"white\",\"automargin\":true,\"zerolinewidth\":2},\"scene\":{\"xaxis\":{\"backgroundcolor\":\"#E5ECF6\",\"gridcolor\":\"white\",\"linecolor\":\"white\",\"showbackground\":true,\"ticks\":\"\",\"zerolinecolor\":\"white\",\"gridwidth\":2},\"yaxis\":{\"backgroundcolor\":\"#E5ECF6\",\"gridcolor\":\"white\",\"linecolor\":\"white\",\"showbackground\":true,\"ticks\":\"\",\"zerolinecolor\":\"white\",\"gridwidth\":2},\"zaxis\":{\"backgroundcolor\":\"#E5ECF6\",\"gridcolor\":\"white\",\"linecolor\":\"white\",\"showbackground\":true,\"ticks\":\"\",\"zerolinecolor\":\"white\",\"gridwidth\":2}},\"shapedefaults\":{\"line\":{\"color\":\"#2a3f5f\"}},\"annotationdefaults\":{\"arrowcolor\":\"#2a3f5f\",\"arrowhead\":0,\"arrowwidth\":1},\"geo\":{\"bgcolor\":\"white\",\"landcolor\":\"#E5ECF6\",\"subunitcolor\":\"white\",\"showland\":true,\"showlakes\":true,\"lakecolor\":\"white\"},\"title\":{\"x\":0.05},\"mapbox\":{\"style\":\"light\"}}},\"geo\":{\"domain\":{\"x\":[0.0,1.0],\"y\":[0.0,1.0]},\"center\":{}},\"legend\":{\"title\":{\"text\":\"color\"},\"tracegroupgap\":0},\"title\":{\"text\":\"Clusters K-means por pa\\u00eds (World Happiness Report 2022)\"}},                        {\"responsive\": true}                    ).then(function(){\n",
       "                            \n",
       "var gd = document.getElementById('ce3bb6f9-dc67-4815-b974-6c7f41e8a802');\n",
       "var x = new MutationObserver(function (mutations, observer) {{\n",
       "        var display = window.getComputedStyle(gd).display;\n",
       "        if (!display || display === 'none') {{\n",
       "            console.log([gd, 'removed!']);\n",
       "            Plotly.purge(gd);\n",
       "            observer.disconnect();\n",
       "        }}\n",
       "}});\n",
       "\n",
       "// Listen for the removal of the full notebook cells\n",
       "var notebookContainer = gd.closest('#notebook-container');\n",
       "if (notebookContainer) {{\n",
       "    x.observe(notebookContainer, {childList: true});\n",
       "}}\n",
       "\n",
       "// Listen for the clearing of the current output cell\n",
       "var outputEl = gd.closest('.output');\n",
       "if (outputEl) {{\n",
       "    x.observe(outputEl, {childList: true});\n",
       "}}\n",
       "\n",
       "                        })                };                });            </script>        </div>"
      ]
     },
     "metadata": {},
     "output_type": "display_data"
    }
   ],
   "source": [
    "import plotly.express as px\n",
    "\n",
    "# Ajustamos nombres de países que puedan dar conflicto\n",
    "country_fix = {\n",
    "    \"Congo (Brazzaville)\": \"Congo\",\n",
    "    \"Congo (Kinshasa)\": \"Democratic Republic of the Congo\",\n",
    "    \"Ivory Coast\": \"Côte d'Ivoire\",\n",
    "    \"Swaziland\": \"Eswatini\",\n",
    "    \"Czech Republic\": \"Czechia\",\n",
    "    \"South Korea\": \"South Korea\",\n",
    "    \"North Macedonia\": \"North Macedonia\",\n",
    "    \"United States\": \"United States\",\n",
    "    \"Viet Nam\": \"Vietnam\",\n",
    "    \"Hong Kong S.A.R. of China\": \"Hong Kong\"\n",
    "}\n",
    "df[\"Country_plotly\"] = df[\"Country\"].replace(country_fix)\n",
    "\n",
    "# Asignar colores personalizados a los clusters\n",
    "color_map = {\n",
    "    \"0\": \"blue\",\n",
    "    \"1\": \"green\",\n",
    "    \"2\": \"orange\"\n",
    "}\n",
    "\n",
    "# Crear mapa mundial por clusters con colores definidos\n",
    "fig = px.choropleth(\n",
    "    df,\n",
    "    locations=\"Country_plotly\",\n",
    "    locationmode=\"country names\",\n",
    "    color=df[\"Cluster\"].astype(str),  # convertir a string para mapear colores\n",
    "    title=\"Clusters K-means por país (World Happiness Report 2022)\",\n",
    "    color_discrete_map=color_map\n",
    ")\n",
    "\n",
    "fig.show()\n"
   ]
  }
 ],
 "metadata": {
  "kernelspec": {
   "display_name": "Python 3 (ipykernel)",
   "language": "python",
   "name": "python3"
  },
  "language_info": {
   "codemirror_mode": {
    "name": "ipython",
    "version": 3
   },
   "file_extension": ".py",
   "mimetype": "text/x-python",
   "name": "python",
   "nbconvert_exporter": "python",
   "pygments_lexer": "ipython3",
   "version": "3.13.5"
  }
 },
 "nbformat": 4,
 "nbformat_minor": 5
}
